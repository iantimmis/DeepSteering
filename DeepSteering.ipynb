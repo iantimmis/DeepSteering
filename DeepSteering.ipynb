{
 "cells": [
  {
   "cell_type": "markdown",
   "metadata": {},
   "source": [
    "floyd run --gpu --mode jupyter --data itimmis/datasets/steering_new:steering_new"
   ]
  },
  {
   "cell_type": "code",
   "execution_count": 1,
   "metadata": {},
   "outputs": [
    {
     "name": "stderr",
     "output_type": "stream",
     "text": [
      "Using TensorFlow backend.\n"
     ]
    }
   ],
   "source": [
    "# For deep learning\n",
    "from keras.applications.inception_v3 import InceptionV3\n",
    "from keras.preprocessing import image\n",
    "from keras.models import Model\n",
    "from keras.layers import Dense, GlobalAveragePooling2D\n",
    "from keras.callbacks import ModelCheckpoint, EarlyStopping\n",
    "from keras import backend as K\n",
    "from keras.utils import np_utils\n",
    "import tensorflow as tf\n",
    "\n",
    "# Synthetic data generation (image augmentation)\n",
    "from keras.preprocessing.image import ImageDataGenerator\n",
    "\n",
    "# For image manipulation\n",
    "from sklearn.feature_extraction import image\n",
    "import scipy.misc\n",
    "\n",
    "# For math\n",
    "import numpy as np\n",
    "from numpy import random\n",
    "import math\n",
    "\n",
    "# For file manipulation\n",
    "import os\n",
    "import glob\n",
    "import pickle\n",
    "\n",
    "# For graphing\n",
    "import matplotlib.pyplot as plt\n",
    "from matplotlib.pyplot import imshow\n",
    "\n",
    "# For reading images\n",
    "from matplotlib.image import imread\n",
    "\n",
    "# For data manipulation\n",
    "from sklearn.model_selection import train_test_split\n",
    "\n",
    "%matplotlib inline"
   ]
  },
  {
   "cell_type": "code",
   "execution_count": 2,
   "metadata": {
    "collapsed": true
   },
   "outputs": [],
   "source": [
    "def save_training_history(history1, history2):\n",
    "\n",
    "    save_data = (history1, history2)\n",
    "    pickle_out = open('history.pickle', 'wb')\n",
    "    pickle.dump(save_data, pickle_out)\n",
    "    pickle_out.close()\n",
    "    \n",
    "    return"
   ]
  },
  {
   "cell_type": "code",
   "execution_count": 3,
   "metadata": {
    "collapsed": true
   },
   "outputs": [],
   "source": [
    "def load_training_history():\n",
    "\n",
    "    pickle_in = open('history.pickle', 'rb')        \n",
    "    (history1, history2) = pickle.load(pickle_in)\n",
    "    \n",
    "    return (history1, history2)"
   ]
  },
  {
   "cell_type": "code",
   "execution_count": 4,
   "metadata": {
    "collapsed": true
   },
   "outputs": [],
   "source": [
    "def generator(data_dict, batch_size):\n",
    "    \n",
    "    # This function generates each mini-batch one at a time\n",
    "    \n",
    "    # Create empty arrays to contain batch of features and labels\n",
    "    batch_features = np.zeros((batch_size, data_dict[\"x_train\"][1].shape[0], data_dict[\"x_train\"][1].shape[1], data_dict[\"x_train\"][1].shape[2]))\n",
    "    batch_labels = np.zeros((batch_size, 1))\n",
    "   \n",
    "    while True:\n",
    "        for i in range(batch_size):\n",
    "            # choose random index in features\n",
    "            index = random.choice(len(data_dict[\"x_train\"]),1)\n",
    "            batch_features[i] = data_dict[\"x_train\"][index]\n",
    "            batch_labels[i] = data_dict[\"y_train\"][index]\n",
    "        yield batch_features, batch_labels"
   ]
  },
  {
   "cell_type": "code",
   "execution_count": 5,
   "metadata": {
    "collapsed": true
   },
   "outputs": [],
   "source": [
    "def radians_to_degrees(x):\n",
    "    deg = math.degrees(x + math.pi)\n",
    "    return deg"
   ]
  },
  {
   "cell_type": "code",
   "execution_count": 6,
   "metadata": {
    "collapsed": true
   },
   "outputs": [],
   "source": [
    "def degrees_to_radians(x):\n",
    "    rad = math.radians(x) - math.pi\n",
    "    return rad"
   ]
  },
  {
   "cell_type": "code",
   "execution_count": 7,
   "metadata": {
    "collapsed": true
   },
   "outputs": [],
   "source": [
    "def load_data():\n",
    "    \n",
    "    images = []\n",
    "    labels = []\n",
    "    \n",
    "    cloud = True\n",
    "    \n",
    "    folder_names = [\"campus_run1\", \"campus_run2\", \"run1\", \"run2\", \"run3\", \"second_spot1\", \"second_spot2\"]\n",
    "    \n",
    "    if cloud == True:\n",
    "        path = \"/steering_new/\"\n",
    "    else: \n",
    "        path = \"/Users/itimmis/Desktop/ACTor/Data/SteeringNew/\"\n",
    "    \n",
    "    # Loop folders\n",
    "    for folder in folder_names:\n",
    "        \n",
    "        # open folder\n",
    "        os.chdir(path + folder)\n",
    "        \n",
    "        # Loop files\n",
    "        for file in glob.glob(\"*.jpg\"):\n",
    "\n",
    "            # Load image\n",
    "            images.append(imread(file))\n",
    "\n",
    "            # Extract label\n",
    "            value = file.split('_')[-1].replace('.jpg','') # Remove the idx from filepath\n",
    "            labels.append(radians_to_degrees(float(value)))\n",
    "        \n",
    "    # Convert to numpy arrays\n",
    "    x = np.array(images)\n",
    "    y = np.array(labels)\n",
    "    \n",
    "    # Extract Test Set\n",
    "    x_train, x_test, y_train, y_test = train_test_split(x, y, test_size=0.2, random_state=1)\n",
    "\n",
    "    # Extract Validation Set\n",
    "    x_train, x_val, y_train, y_val = train_test_split(x_train, y_train, test_size=0.25, random_state=1)\n",
    "    \n",
    "    # Normalize images\n",
    "    x_train = x_train / 255.\n",
    "    x_val = x_val / 255.\n",
    "    x_test = x_test / 255.\n",
    "    \n",
    "    # Create data dictionary to contain train,val,test sets\n",
    "    data_dict = {\n",
    "        \"x_train\":x_train,\n",
    "        \"y_train\":y_train,\n",
    "        \"x_val\":x_val,\n",
    "        \"y_val\":y_val,\n",
    "        \"x_test\":x_test,\n",
    "        \"y_test\":y_test\n",
    "    }\n",
    "    \n",
    "    return data_dict"
   ]
  },
  {
   "cell_type": "code",
   "execution_count": 8,
   "metadata": {
    "collapsed": true
   },
   "outputs": [],
   "source": [
    "def init_model(data_dict, hyperparameters):\n",
    "    \n",
    "    base_model = InceptionV3(weights=\"imagenet\", include_top=False, input_shape=data_dict[\"x_train\"][1].shape)\n",
    "    \n",
    "    # add a global spatial average pooling layer\n",
    "    x = base_model.output\n",
    "    x = GlobalAveragePooling2D()(x)\n",
    "    \n",
    "    # add a fully-connected layer\n",
    "    x = Dense(hyperparameters[\"fc_size\"], activation=hyperparameters[\"fc_activation\"])(x)\n",
    "    \n",
    "    # add a logistic layer\n",
    "    predictions = Dense(1, kernel_initializer='normal')(x)\n",
    "    \n",
    "    # train this model\n",
    "    model = Model(inputs=base_model.input, outputs=predictions)\n",
    "    for layer in base_model.layers:\n",
    "        layer.trainable = False\n",
    "\n",
    "    # compile the model (should be done *after* setting layers to non-trainable)\n",
    "    model.compile(optimizer='adam', loss=hyperparameters[\"loss\"], metrics=hyperparameters[\"metrics\"])\n",
    "    \n",
    "    return model"
   ]
  },
  {
   "cell_type": "code",
   "execution_count": 9,
   "metadata": {},
   "outputs": [
    {
     "name": "stdout",
     "output_type": "stream",
     "text": [
      "Downloading data from https://github.com/fchollet/deep-learning-models/releases/download/v0.5/inception_v3_weights_tf_dim_ordering_tf_kernels_notop.h5\n",
      "87818240/87910968 [============================>.] - ETA: 0s"
     ]
    }
   ],
   "source": [
    "#def main():\n",
    "\n",
    "# Hyperparameters\n",
    "hyperparameters = {\n",
    "    \"batchsize\" : 32,\n",
    "    \"fc_size\" : 1024,\n",
    "    \"fc_activation\" : 'relu',\n",
    "    \"epoch_finetune\" : 30,\n",
    "    \"epoch_transfer\" : 30,\n",
    "    \"loss\" : \"mean_squared_error\",\n",
    "    \"metrics\" : None,#[\"accuracy\"]\n",
    "    \"monitor\" : 'val_loss'\n",
    "}\n",
    "\n",
    "# # Load steering images\n",
    "data_dict = load_data()\n",
    "\n",
    "# # Create model\n",
    "model = init_model(data_dict, hyperparameters)\n",
    "\n",
    "m = data_dict[\"x_train\"].shape[0]\n",
    "\n",
    "# Train model\n",
    "#train_model(data_dict, hyperparameters)\n",
    "\n",
    "#    return"
   ]
  },
  {
   "cell_type": "code",
   "execution_count": null,
   "metadata": {},
   "outputs": [
    {
     "name": "stdout",
     "output_type": "stream",
     "text": [
      "Epoch 1/30\n",
      "86/86 [============================>.] - ETA: 0s - loss: 1039.6854Epoch 00000: val_loss improved from inf to 909.57253, saving model to /output/top_weights.h5\n",
      "87/86 [==============================] - 194s - loss: 1044.1471 - val_loss: 909.5725\n",
      "Epoch 2/30\n",
      "86/86 [============================>.] - ETA: 0s - loss: 891.9657Epoch 00001: val_loss improved from 909.57253 to 877.25450, saving model to /output/top_weights.h5\n",
      "87/86 [==============================] - 191s - loss: 893.6656 - val_loss: 877.2545\n",
      "Epoch 3/30\n",
      "86/86 [============================>.] - ETA: 0s - loss: 979.4027Epoch 00002: val_loss improved from 877.25450 to 854.63906, saving model to /output/top_weights.h5\n",
      "87/86 [==============================] - 191s - loss: 972.5712 - val_loss: 854.6391\n",
      "Epoch 4/30\n",
      "86/86 [============================>.] - ETA: 0s - loss: 920.7927Epoch 00003: val_loss improved from 854.63906 to 822.89369, saving model to /output/top_weights.h5\n",
      "87/86 [==============================] - 191s - loss: 919.4361 - val_loss: 822.8937\n",
      "Epoch 5/30\n",
      "86/86 [============================>.] - ETA: 0s - loss: 997.9215Epoch 00004: val_loss improved from 822.89369 to 785.95908, saving model to /output/top_weights.h5\n",
      "87/86 [==============================] - 191s - loss: 993.9919 - val_loss: 785.9591\n",
      "Epoch 6/30\n",
      "86/86 [============================>.] - ETA: 0s - loss: 846.9669Epoch 00005: val_loss improved from 785.95908 to 754.10023, saving model to /output/top_weights.h5\n",
      "87/86 [==============================] - 191s - loss: 844.0527 - val_loss: 754.1002\n",
      "Epoch 7/30\n",
      "86/86 [============================>.] - ETA: 0s - loss: 868.4497Epoch 00006: val_loss improved from 754.10023 to 715.74508, saving model to /output/top_weights.h5\n",
      "87/86 [==============================] - 190s - loss: 863.9704 - val_loss: 715.7451\n",
      "Epoch 8/30\n",
      "86/86 [============================>.] - ETA: 0s - loss: 816.1431Epoch 00007: val_loss improved from 715.74508 to 682.36913, saving model to /output/top_weights.h5\n",
      "87/86 [==============================] - 191s - loss: 810.7208 - val_loss: 682.3691\n",
      "Epoch 9/30\n",
      "86/86 [============================>.] - ETA: 0s - loss: 790.2767Epoch 00008: val_loss improved from 682.36913 to 658.24276, saving model to /output/top_weights.h5\n",
      "87/86 [==============================] - 191s - loss: 785.9092 - val_loss: 658.2428\n",
      "Epoch 10/30\n",
      "86/86 [============================>.] - ETA: 0s - loss: 843.1599Epoch 00009: val_loss did not improve\n",
      "87/86 [==============================] - 191s - loss: 838.8687 - val_loss: 661.3228\n",
      "Epoch 11/30\n",
      "86/86 [============================>.] - ETA: 0s - loss: 744.6314Epoch 00010: val_loss improved from 658.24276 to 655.64354, saving model to /output/top_weights.h5\n",
      "87/86 [==============================] - 191s - loss: 744.0224 - val_loss: 655.6435\n",
      "Epoch 12/30\n",
      "86/86 [============================>.] - ETA: 0s - loss: 797.4101Epoch 00011: val_loss improved from 655.64354 to 608.11950, saving model to /output/top_weights.h5\n",
      "87/86 [==============================] - 191s - loss: 795.8730 - val_loss: 608.1195\n",
      "Epoch 13/30\n",
      "86/86 [============================>.] - ETA: 0s - loss: 803.0443Epoch 00012: val_loss did not improve\n",
      "87/86 [==============================] - 191s - loss: 800.2375 - val_loss: 628.9084\n",
      "Epoch 14/30\n",
      "86/86 [============================>.] - ETA: 0s - loss: 743.6646Epoch 00013: val_loss did not improve\n",
      "87/86 [==============================] - 191s - loss: 750.8049 - val_loss: 610.9701\n",
      "Epoch 15/30\n",
      "86/86 [============================>.] - ETA: 0s - loss: 784.1583Epoch 00014: val_loss improved from 608.11950 to 558.83308, saving model to /output/top_weights.h5\n",
      "87/86 [==============================] - 191s - loss: 779.8469 - val_loss: 558.8331\n",
      "Epoch 16/30\n",
      "86/86 [============================>.] - ETA: 0s - loss: 780.1892Epoch 00015: val_loss did not improve\n",
      "87/86 [==============================] - 191s - loss: 777.0722 - val_loss: 561.8188\n",
      "Epoch 17/30\n",
      "86/86 [============================>.] - ETA: 0s - loss: 760.1301Epoch 00016: val_loss improved from 558.83308 to 547.72866, saving model to /output/top_weights.h5\n",
      "87/86 [==============================] - 192s - loss: 769.3537 - val_loss: 547.7287\n",
      "Epoch 18/30\n",
      "86/86 [============================>.] - ETA: 0s - loss: 738.6913Epoch 00017: val_loss did not improve\n",
      "87/86 [==============================] - 190s - loss: 739.7455 - val_loss: 645.3404\n",
      "Epoch 19/30\n",
      "86/86 [============================>.] - ETA: 0s - loss: 802.7660Epoch 00018: val_loss improved from 547.72866 to 537.49995, saving model to /output/top_weights.h5\n",
      "87/86 [==============================] - 192s - loss: 801.6602 - val_loss: 537.4999\n",
      "Epoch 20/30\n",
      "86/86 [============================>.] - ETA: 0s - loss: 757.6134Epoch 00019: val_loss improved from 537.49995 to 531.43611, saving model to /output/top_weights.h5\n",
      "87/86 [==============================] - 192s - loss: 755.0510 - val_loss: 531.4361\n",
      "Epoch 21/30\n",
      "86/86 [============================>.] - ETA: 0s - loss: 809.0726Epoch 00020: val_loss improved from 531.43611 to 516.49924, saving model to /output/top_weights.h5\n",
      "87/86 [==============================] - 191s - loss: 805.6692 - val_loss: 516.4992\n",
      "Epoch 22/30\n",
      "86/86 [============================>.] - ETA: 0s - loss: 669.3170Epoch 00021: val_loss did not improve\n",
      "87/86 [==============================] - 190s - loss: 667.3685 - val_loss: 691.4701\n",
      "Epoch 23/30\n",
      "86/86 [============================>.] - ETA: 0s - loss: 783.9571Epoch 00022: val_loss did not improve\n",
      "87/86 [==============================] - 190s - loss: 782.1657 - val_loss: 523.3766\n",
      "Epoch 24/30\n",
      "86/86 [============================>.] - ETA: 0s - loss: 769.4755Epoch 00023: val_loss did not improve\n",
      "87/86 [==============================] - 190s - loss: 771.1162 - val_loss: 522.4758\n",
      "Epoch 25/30\n",
      "86/86 [============================>.] - ETA: 0s - loss: 703.4715Epoch 00024: val_loss did not improve\n",
      "87/86 [==============================] - 190s - loss: 704.8000 - val_loss: 518.4009\n",
      "Epoch 26/30\n",
      "86/86 [============================>.] - ETA: 0s - loss: 751.2520Epoch 00025: val_loss did not improve\n",
      "87/86 [==============================] - 190s - loss: 750.8307 - val_loss: 529.4289\n",
      "Epoch 27/30\n",
      "86/86 [============================>.] - ETA: 0s - loss: 767.1303Epoch 00026: val_loss did not improve\n",
      "87/86 [==============================] - 191s - loss: 775.7197 - val_loss: 553.9052\n",
      "Epoch 1/30\n",
      "86/86 [============================>.] - ETA: 0s - loss: 2186.5466Epoch 00000: val_loss improved from inf to 36855.37463, saving model to /output/final_weights.h5\n",
      "87/86 [==============================] - 215s - loss: 2169.1192 - val_loss: 36855.3746\n",
      "Epoch 2/30\n",
      "86/86 [============================>.] - ETA: 0s - loss: 856.5611Epoch 00001: val_loss improved from 36855.37463 to 1866.68239, saving model to /output/final_weights.h5\n",
      "87/86 [==============================] - 213s - loss: 866.6672 - val_loss: 1866.6824\n",
      "Epoch 3/30\n",
      "86/86 [============================>.] - ETA: 0s - loss: 860.2901Epoch 00002: val_loss improved from 1866.68239 to 569.51162, saving model to /output/final_weights.h5\n",
      "87/86 [==============================] - 213s - loss: 857.8026 - val_loss: 569.5116\n",
      "Epoch 4/30\n",
      "86/86 [============================>.] - ETA: 0s - loss: 820.6104Epoch 00003: val_loss improved from 569.51162 to 466.74193, saving model to /output/final_weights.h5\n",
      "87/86 [==============================] - 213s - loss: 818.5328 - val_loss: 466.7419\n",
      "Epoch 5/30\n",
      "86/86 [============================>.] - ETA: 0s - loss: 760.7789Epoch 00004: val_loss improved from 466.74193 to 393.22064, saving model to /output/final_weights.h5\n",
      "87/86 [==============================] - 213s - loss: 758.6308 - val_loss: 393.2206\n",
      "Epoch 6/30\n",
      "86/86 [============================>.] - ETA: 0s - loss: 614.7347Epoch 00005: val_loss did not improve\n",
      "87/86 [==============================] - 211s - loss: 612.0462 - val_loss: 612.5916\n",
      "Epoch 7/30\n",
      "86/86 [============================>.] - ETA: 0s - loss: 709.4015Epoch 00006: val_loss did not improve\n",
      "87/86 [==============================] - 212s - loss: 713.6489 - val_loss: 558.0906\n",
      "Epoch 8/30\n",
      "86/86 [============================>.] - ETA: 0s - loss: 647.3747Epoch 00007: val_loss improved from 393.22064 to 389.23725, saving model to /output/final_weights.h5\n"
     ]
    },
    {
     "name": "stdout",
     "output_type": "stream",
     "text": [
      "87/86 [==============================] - 213s - loss: 645.8177 - val_loss: 389.2373\n",
      "Epoch 9/30\n",
      "86/86 [============================>.] - ETA: 0s - loss: 653.6442Epoch 00008: val_loss did not improve\n",
      "87/86 [==============================] - 212s - loss: 653.6320 - val_loss: 412.3415\n",
      "Epoch 10/30\n",
      "86/86 [============================>.] - ETA: 0s - loss: 650.0935Epoch 00009: val_loss did not improve\n",
      "87/86 [==============================] - 212s - loss: 648.3177 - val_loss: 404.0928\n",
      "Epoch 11/30\n",
      "86/86 [============================>.] - ETA: 0s - loss: 738.2341Epoch 00010: val_loss improved from 389.23725 to 314.67407, saving model to /output/final_weights.h5\n",
      "87/86 [==============================] - 213s - loss: 735.6710 - val_loss: 314.6741\n",
      "Epoch 12/30\n",
      "86/86 [============================>.] - ETA: 0s - loss: 725.2638Epoch 00011: val_loss did not improve\n",
      "87/86 [==============================] - 212s - loss: 722.3355 - val_loss: 321.0565\n",
      "Epoch 13/30\n",
      "86/86 [============================>.] - ETA: 0s - loss: 756.8538Epoch 00012: val_loss did not improve\n",
      "87/86 [==============================] - 212s - loss: 757.9247 - val_loss: 676.8160\n",
      "Epoch 14/30\n",
      "86/86 [============================>.] - ETA: 0s - loss: 661.8733Epoch 00013: val_loss did not improve\n",
      "87/86 [==============================] - 212s - loss: 656.0270 - val_loss: 412.0039\n",
      "Epoch 15/30\n",
      "86/86 [============================>.] - ETA: 0s - loss: 721.9756Epoch 00014: val_loss did not improve\n",
      "87/86 [==============================] - 211s - loss: 721.6577 - val_loss: 508.0298\n",
      "Epoch 16/30\n",
      "86/86 [============================>.] - ETA: 0s - loss: 708.2337Epoch 00015: val_loss did not improve\n",
      "87/86 [==============================] - 212s - loss: 705.5209 - val_loss: 524.5211\n",
      "Epoch 17/30\n",
      "86/86 [============================>.] - ETA: 0s - loss: 822.1651Epoch 00016: val_loss improved from 314.67407 to 252.23807, saving model to /output/final_weights.h5\n",
      "87/86 [==============================] - 212s - loss: 827.8999 - val_loss: 252.2381\n",
      "Epoch 18/30\n",
      "86/86 [============================>.] - ETA: 0s - loss: 671.5358Epoch 00017: val_loss improved from 252.23807 to 243.04781, saving model to /output/final_weights.h5\n",
      "87/86 [==============================] - 213s - loss: 668.4076 - val_loss: 243.0478\n",
      "Epoch 19/30\n",
      "86/86 [============================>.] - ETA: 0s - loss: 629.0898Epoch 00018: val_loss did not improve\n",
      "87/86 [==============================] - 212s - loss: 628.0479 - val_loss: 246.8994\n",
      "Epoch 20/30\n",
      "86/86 [============================>.] - ETA: 0s - loss: 718.0328Epoch 00019: val_loss did not improve\n",
      "87/86 [==============================] - 212s - loss: 715.7169 - val_loss: 334.6287\n",
      "Epoch 21/30\n",
      "86/86 [============================>.] - ETA: 0s - loss: 681.7522Epoch 00020: val_loss did not improve\n",
      "87/86 [==============================] - 212s - loss: 689.9658 - val_loss: 271.4110\n",
      "Epoch 22/30\n",
      "86/86 [============================>.] - ETA: 0s - loss: 608.3250Epoch 00021: val_loss did not improve\n",
      "87/86 [==============================] - 212s - loss: 613.5740 - val_loss: 533.4087\n",
      "Epoch 23/30\n",
      "86/86 [============================>.] - ETA: 0s - loss: 698.9010Epoch 00022: val_loss did not improve\n",
      "87/86 [==============================] - 212s - loss: 693.8932 - val_loss: 369.8089\n",
      "Epoch 24/30\n",
      "86/86 [============================>.] - ETA: 0s - loss: 657.3876Epoch 00023: val_loss did not improve\n",
      "87/86 [==============================] - 212s - loss: 652.9960 - val_loss: 713.9575\n"
     ]
    }
   ],
   "source": [
    "# def train_model(data_dict, hyperparameters):\n",
    "    \n",
    "top_weights_path = \"/output/top_weights.h5\"\n",
    "\n",
    "# Early Stopping and Model Checkpoint callbacks\n",
    "callbacks_list = [\n",
    "    ModelCheckpoint(top_weights_path, monitor=hyperparameters[\"monitor\"], verbose=1, save_best_only=True),\n",
    "    EarlyStopping(monitor=hyperparameters[\"monitor\"], patience=5, verbose=0)\n",
    "]\n",
    "\n",
    "# train the model on the new data for a few epochs\n",
    "history1 = model.fit_generator(generator(data_dict, hyperparameters[\"batchsize\"]), steps_per_epoch= m / hyperparameters[\"batchsize\"], \n",
    "                    epochs=hyperparameters[\"epoch_finetune\"], callbacks=callbacks_list, validation_data=(data_dict[\"x_val\"], data_dict[\"y_val\"]))\n",
    "\n",
    "\n",
    "model.load_weights(top_weights_path)\n",
    "\n",
    "for layer in model.layers[:249]:\n",
    "    layer.trainable = False\n",
    "for layer in model.layers[249:]:\n",
    "    layer.trainable = True\n",
    "\n",
    "# Early Stopping and Model Checkpoint callbacks\n",
    "final_weights_path = \"/output/final_weights.h5\"\n",
    "callbacks_list = [\n",
    "    ModelCheckpoint(final_weights_path, monitor=hyperparameters[\"monitor\"], verbose=1, save_best_only=True),\n",
    "    EarlyStopping(monitor=hyperparameters[\"monitor\"], patience=5, verbose=0)\n",
    "]\n",
    "\n",
    "from keras.optimizers import SGD\n",
    "model.compile(optimizer=SGD(lr=0.0001, momentum=0.9), loss=hyperparameters[\"loss\"], metrics=hyperparameters[\"metrics\"])\n",
    "\n",
    "history2 = model.fit_generator(generator(data_dict,hyperparameters[\"batchsize\"]), steps_per_epoch= m / hyperparameters[\"batchsize\"], \n",
    "                    epochs=hyperparameters[\"epoch_transfer\"], callbacks=callbacks_list, validation_data=(data_dict[\"x_val\"], data_dict[\"y_val\"]))\n",
    "\n",
    "    # Save the transfer learning and fine tuning history\n",
    "    #save_training_history(history1, history2)\n",
    "    \n",
    "#     return"
   ]
  },
  {
   "cell_type": "code",
   "execution_count": null,
   "metadata": {},
   "outputs": [
    {
     "name": "stdout",
     "output_type": "stream",
     "text": [
      "921/921 [==============================] - 53s    \n",
      "243.120762422\n"
     ]
    }
   ],
   "source": [
    "final_weights_path = \"/output/final_weights.h5\"\n",
    "\n",
    "model.load_weights(final_weights_path)\n",
    "\n",
    "preds = model.evaluate(data_dict[\"x_test\"], data_dict[\"y_test\"])\n",
    "\n",
    "print(preds)"
   ]
  },
  {
   "cell_type": "code",
   "execution_count": null,
   "metadata": {},
   "outputs": [
    {
     "data": {
      "text/plain": [
       "[<matplotlib.lines.Line2D at 0x7f66f5538ef0>]"
      ]
     },
     "execution_count": 13,
     "metadata": {},
     "output_type": "execute_result"
    },
    {
     "data": {
      "image/png": "[encoded data removed]",
      "text/plain": [
       "<matplotlib.figure.Figure at 0x7f66f558b4e0>"
      ]
     },
     "metadata": {},
     "output_type": "display_data"
    }
   ],
   "source": [
    "plt.plot(history1.history['val_loss'])"
   ]
  },
  {
   "cell_type": "code",
   "execution_count": null,
   "metadata": {},
   "outputs": [
    {
     "data": {
      "text/plain": [
       "[<matplotlib.lines.Line2D at 0x7f66f4443da0>]"
      ]
     },
     "execution_count": 14,
     "metadata": {},
     "output_type": "execute_result"
    },
    {
     "data": {
      "image/png": "[encoded data removed]",
      "text/plain": [
       "<matplotlib.figure.Figure at 0x7f66f54720b8>"
      ]
     },
     "metadata": {},
     "output_type": "display_data"
    }
   ],
   "source": [
    "plt.plot(history2.history['val_loss'])"
   ]
  },
  {
   "cell_type": "code",
   "execution_count": null,
   "metadata": {
    "collapsed": true
   },
   "outputs": [],
   "source": []
  }
 ],
 "metadata": {
  "kernelspec": {
   "display_name": "Python 3",
   "language": "python",
   "name": "python3"
  },
  "language_info": {
   "codemirror_mode": {
    "name": "ipython",
    "version": 3
   },
   "file_extension": ".py",
   "mimetype": "text/x-python",
   "name": "python",
   "nbconvert_exporter": "python",
   "pygments_lexer": "ipython3",
   "version": "3.6.4"
  }
 },
 "nbformat": 4,
 "nbformat_minor": 2
}
