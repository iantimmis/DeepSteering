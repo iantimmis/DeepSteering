{
 "cells": [
  {
   "cell_type": "markdown",
   "metadata": {},
   "source": [
    "floyd run --gpu --mode jupyter --data itimmis/datasets/deepsteeringweights:weights"
   ]
  },
  {
   "cell_type": "code",
   "execution_count": null,
   "metadata": {},
   "outputs": [],
   "source": [
    "# For deep learning\n",
    "from keras.applications.inception_v3 import InceptionV3\n",
    "from keras.preprocessing import image\n",
    "from keras.models import Model\n",
    "from keras.layers import Dense, GlobalAveragePooling2D\n",
    "from keras.callbacks import ModelCheckpoint, EarlyStopping\n",
    "from keras import backend as K\n",
    "from keras.utils import np_utils\n",
    "import tensorflow as tf\n",
    "\n",
    "# Synthetic data generation (image augmentation)\n",
    "from keras.preprocessing.image import ImageDataGenerator\n",
    "\n",
    "# For image manipulation\n",
    "from sklearn.feature_extraction import image\n",
    "import scipy.misc\n",
    "\n",
    "# For math\n",
    "import numpy as np\n",
    "from numpy import random\n",
    "import math\n",
    "\n",
    "# For file manipulation\n",
    "import os\n",
    "import glob\n",
    "import pickle\n",
    "import h5py\n",
    "\n",
    "# For graphing\n",
    "import matplotlib.pyplot as plt\n",
    "from matplotlib.pyplot import imshow\n",
    "\n",
    "# For reading images\n",
    "from matplotlib.image import imread\n",
    "\n",
    "# For data manipulation\n",
    "from sklearn.model_selection import train_test_split\n",
    "\n",
    "%matplotlib inline"
   ]
  },
  {
   "cell_type": "code",
   "execution_count": null,
   "metadata": {},
   "outputs": [],
   "source": [
    "def radians_to_degrees(x):\n",
    "    deg = math.degrees(x + math.pi)\n",
    "    return deg"
   ]
  },
  {
   "cell_type": "code",
   "execution_count": null,
   "metadata": {},
   "outputs": [],
   "source": [
    "def degrees_to_radians(x):\n",
    "    rad = math.radians(x) - math.pi\n",
    "    return rad"
   ]
  },
  {
   "cell_type": "code",
   "execution_count": null,
   "metadata": {},
   "outputs": [],
   "source": [
    "def init_model(img_shape, hyperparameters):\n",
    "    \n",
    "    base_model = InceptionV3(weights=None, include_top=False, input_shape=img_shape)\n",
    "    \n",
    "    # add a global spatial average pooling layer\n",
    "    x = base_model.output\n",
    "    x = GlobalAveragePooling2D()(x)\n",
    "    \n",
    "    # add a fully-connected layer\n",
    "    x = Dense(hyperparameters[\"fc_size\"], activation=hyperparameters[\"fc_activation\"])(x)\n",
    "    \n",
    "    # add a logistic layer\n",
    "    predictions = Dense(1, kernel_initializer='normal')(x)\n",
    "    \n",
    "    # train this model\n",
    "    model = Model(inputs=base_model.input, outputs=predictions)\n",
    "    \n",
    "    # compile the model\n",
    "    model.compile(optimizer='adam', loss=hyperparameters[\"loss\"], metrics=hyperparameters[\"metrics\"])\n",
    "    \n",
    "    return model"
   ]
  },
  {
   "cell_type": "code",
   "execution_count": null,
   "metadata": {},
   "outputs": [],
   "source": [
    "def load_model(weights_path, img_shape):\n",
    "\n",
    "    # Hyperparameters\n",
    "    hyperparameters = {\n",
    "        \"batchsize\" : 32,\n",
    "        \"fc_size\" : 1024,\n",
    "        \"fc_activation\" : 'relu',\n",
    "        \"loss\" : \"mean_squared_error\",\n",
    "        \"metrics\" : None,#[\"accuracy\"]\n",
    "        \"monitor\" : 'val_loss'\n",
    "    }\n",
    "\n",
    "    # # Create model\n",
    "    model = init_model(img_shape, hyperparameters)\n",
    "    model.load_weights(weights_path)\n",
    "\n",
    "    return model"
   ]
  },
  {
   "cell_type": "code",
   "execution_count": null,
   "metadata": {},
   "outputs": [],
   "source": [
    "def main():\n",
    "    \n",
    "    #filename = input(\"Enter full filepath of the image:\\n\")\n",
    "    #filename = filename.rstrip()\n",
    "    filename = \"/Users/itimmis/Documents/AI/DeepSteering_Data/run1/16_0.0558505.jpg\" \n",
    "    X = imread(filename)\n",
    "    weights_path = \"/Users/itimmis/Documents/AI/DeepSteeringWeights/final_weights.h5\"\n",
    "    #weights_path = \"/weights/final_weights.h5\"\n",
    "    \n",
    "    model = load_model(weights_path, X.shape)\n",
    "    \n",
    "    Y_hat = model.predict(X)\n",
    "\n",
    "    print(Y_hat)"
   ]
  },
  {
   "cell_type": "code",
   "execution_count": null,
   "metadata": {},
   "outputs": [],
   "source": [
    "main()"
   ]
  },
  {
   "cell_type": "code",
   "execution_count": null,
   "metadata": {},
   "outputs": [],
   "source": [
    "# /Users/itimmis/Documents/AI/DeepSteering_Data/run1/16_0.0558505.jpg "
   ]
  },
  {
   "cell_type": "code",
   "execution_count": null,
   "metadata": {},
   "outputs": [],
   "source": []
  }
 ],
 "metadata": {
  "kernelspec": {
   "display_name": "Python 3",
   "language": "python",
   "name": "python3"
  },
  "language_info": {
   "codemirror_mode": {
    "name": "ipython",
    "version": 3
   },
   "file_extension": ".py",
   "mimetype": "text/x-python",
   "name": "python",
   "nbconvert_exporter": "python",
   "pygments_lexer": "ipython3",
   "version": "3.6.4"
  }
 },
 "nbformat": 4,
 "nbformat_minor": 2
}
