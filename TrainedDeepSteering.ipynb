{
 "cells": [
  {
   "cell_type": "markdown",
   "metadata": {},
   "source": [
    "floyd run --gpu --mode jupyter --data itimmis/datasets/steering_new:steering_new"
   ]
  },
  {
   "cell_type": "code",
   "execution_count": 1,
   "metadata": {},
   "outputs": [
    {
     "name": "stderr",
     "output_type": "stream",
     "text": [
      "Using TensorFlow backend.\n"
     ]
    }
   ],
   "source": [
    "# For deep learning\n",
    "from keras.applications.inception_v3 import InceptionV3\n",
    "from keras.preprocessing import image\n",
    "from keras.models import Model\n",
    "from keras.layers import Dense, GlobalAveragePooling2D\n",
    "from keras.callbacks import ModelCheckpoint, EarlyStopping\n",
    "from keras import backend as K\n",
    "from keras.utils import np_utils\n",
    "import tensorflow as tf\n",
    "\n",
    "# Synthetic data generation (image augmentation)\n",
    "from keras.preprocessing.image import ImageDataGenerator\n",
    "\n",
    "# For image manipulation\n",
    "from sklearn.feature_extraction import image\n",
    "import scipy.misc\n",
    "\n",
    "# For math\n",
    "import numpy as np\n",
    "from numpy import random\n",
    "import math\n",
    "\n",
    "# For file manipulation\n",
    "import os\n",
    "import glob\n",
    "import pickle\n",
    "\n",
    "# For graphing\n",
    "import matplotlib.pyplot as plt\n",
    "from matplotlib.pyplot import imshow\n",
    "\n",
    "# For reading images\n",
    "from matplotlib.image import imread\n",
    "\n",
    "# For data manipulation\n",
    "from sklearn.model_selection import train_test_split\n",
    "\n",
    "%matplotlib inline"
   ]
  },
  {
   "cell_type": "code",
   "execution_count": 2,
   "metadata": {
    "collapsed": true
   },
   "outputs": [],
   "source": [
    "def radians_to_degrees(x):\n",
    "    deg = math.degrees(x + math.pi)\n",
    "    return deg"
   ]
  },
  {
   "cell_type": "code",
   "execution_count": 3,
   "metadata": {
    "collapsed": true
   },
   "outputs": [],
   "source": [
    "def degrees_to_radians(x):\n",
    "    rad = math.radians(x) - math.pi\n",
    "    return rad"
   ]
  },
  {
   "cell_type": "code",
   "execution_count": 4,
   "metadata": {
    "collapsed": true
   },
   "outputs": [],
   "source": [
    "def load_data_OLD():\n",
    "    \n",
    "    images = []\n",
    "    labels = []\n",
    "    \n",
    "    cloud = True\n",
    "    \n",
    "    folder_names = [\"campus_run1\", \"campus_run2\", \"run1\", \"run2\", \"run3\", \"second_spot1\", \"second_spot2\"]\n",
    "    \n",
    "    if cloud == True:\n",
    "        path = \"/steering_new/\"\n",
    "    else: \n",
    "        path = \"/Users/itimmis/Desktop/ACTor/Data/SteeringNew/\"\n",
    "    \n",
    "    # Loop folders\n",
    "    for folder in folder_names:\n",
    "        \n",
    "        # open folder\n",
    "        os.chdir(path + folder)\n",
    "        \n",
    "        # Loop files\n",
    "        for file in glob.glob(\"*.jpg\"):\n",
    "\n",
    "            # Load image\n",
    "            images.append(imread(file))\n",
    "\n",
    "            # Extract label\n",
    "            value = file.split('_')[-1].replace('.jpg','') # Remove the idx from filepath\n",
    "            labels.append(radians_to_degrees(float(value)))\n",
    "        \n",
    "    # Convert to numpy arrays\n",
    "    x = np.array(images)\n",
    "    y = np.array(labels)\n",
    "    \n",
    "    # Extract Test Set\n",
    "    x_train, x_test, y_train, y_test = train_test_split(x, y, test_size=0.2, random_state=1)\n",
    "\n",
    "    # Extract Validation Set\n",
    "    x_train, x_val, y_train, y_val = train_test_split(x_train, y_train, test_size=0.25, random_state=1)\n",
    "    \n",
    "    # Normalize images\n",
    "    x_train = x_train / 255.\n",
    "    x_val = x_val / 255.\n",
    "    x_test = x_test / 255.\n",
    "    \n",
    "    # Create data dictionary to contain train,val,test sets\n",
    "    data_dict = {\n",
    "        \"x_train\":x_train,\n",
    "        \"y_train\":y_train,\n",
    "        \"x_val\":x_val,\n",
    "        \"y_val\":y_val,\n",
    "        \"x_test\":x_test,\n",
    "        \"y_test\":y_test\n",
    "    }\n",
    "    \n",
    "    return data_dict"
   ]
  },
  {
   "cell_type": "code",
   "execution_count": 5,
   "metadata": {
    "collapsed": true
   },
   "outputs": [],
   "source": [
    "def load_data(file):\n",
    "    \n",
    "    #file = '/steering_new/second_spot1/101_1.07687.jpg'\n",
    "    \n",
    "    # Load image\n",
    "    img = imread(file)\n",
    "\n",
    "    # Extract label\n",
    "    value = file.split('_')[-1].replace('.jpg','') # Remove the idx from filepath\n",
    "    label = radians_to_degrees(float(value))\n",
    "    \n",
    "    return img, label"
   ]
  },
  {
   "cell_type": "code",
   "execution_count": 6,
   "metadata": {
    "collapsed": true
   },
   "outputs": [],
   "source": [
    "def init_model(img, hyperparameters):\n",
    "    \n",
    "    base_model = InceptionV3(weights=None, include_top=False, input_shape=img[0].shape)\n",
    "    \n",
    "    # add a global spatial average pooling layer\n",
    "    x = base_model.output\n",
    "    x = GlobalAveragePooling2D()(x)\n",
    "    \n",
    "    # add a fully-connected layer\n",
    "    x = Dense(hyperparameters[\"fc_size\"], activation=hyperparameters[\"fc_activation\"])(x)\n",
    "    \n",
    "    # add a logistic layer\n",
    "    predictions = Dense(1, kernel_initializer='normal')(x)\n",
    "    \n",
    "    # train this model\n",
    "    model = Model(inputs=base_model.input, outputs=predictions)\n",
    "    for layer in base_model.layers:\n",
    "        layer.trainable = False\n",
    "\n",
    "    # compile the model (should be done *after* setting layers to non-trainable)\n",
    "    model.compile(optimizer='adam', loss=hyperparameters[\"loss\"], metrics=hyperparameters[\"metrics\"])\n",
    "    \n",
    "    return model"
   ]
  },
  {
   "cell_type": "code",
   "execution_count": 7,
   "metadata": {},
   "outputs": [
    {
     "name": "stdout",
     "output_type": "stream",
     "text": [
      "img  (1, 480, 640, 3)\n",
      "lab  (1, 1)\n"
     ]
    }
   ],
   "source": [
    "def main():\n",
    "    # Hyperparameters\n",
    "    hyperparameters = {\n",
    "        \"batchsize\" : 32,\n",
    "        \"fc_size\" : 1024,\n",
    "        \"fc_activation\" : 'relu',\n",
    "        \"epoch_finetune\" : 30,\n",
    "        \"epoch_transfer\" : 30,\n",
    "        \"loss\" : \"mean_squared_error\",\n",
    "        \"metrics\" : None,#[\"accuracy\"]\n",
    "        \"monitor\" : 'val_loss'\n",
    "    }\n",
    "\n",
    "    # # Load steering images\n",
    "    \n",
    "    fname = raw_input(\"Enter filename to image: \")\n",
    "    img_o, label_o = load_data(fname)\n",
    "\n",
    "    img = np.array([img_o])\n",
    "    img = img / 255.\n",
    "    label = np.array([label_o]).reshape([1,1])\n",
    "\n",
    "    print(\"img \",img.shape)\n",
    "    print(\"lab \",label.shape)\n",
    "\n",
    "    # # Create model\n",
    "    model = init_model(img, hyperparameters)\n",
    "    \n",
    "    final_weights_path = \"/final_weights/final_weights.h5\"\n",
    "\n",
    "    model.load_weights(final_weights_path)\n",
    "    \n",
    "    prediction = model.predict(img,batch_size=1)\n",
    "\n",
    "    print(\"Prediction: \", prediction[0][0])\n",
    "    print(\"Actual: \", label[0][0])\n",
    "    print(\"-------------------------\")\n",
    "    print(\"Error: \", abs(prediction[0][0] - label[0][0]))"
   ]
  },
  {
   "cell_type": "code",
   "execution_count": null,
   "metadata": {
    "collapsed": true
   },
   "outputs": [],
   "source": []
  }
 ],
 "metadata": {
  "kernelspec": {
   "display_name": "Python 3",
   "language": "python",
   "name": "python3"
  },
  "language_info": {
   "codemirror_mode": {
    "name": "ipython",
    "version": 3
   },
   "file_extension": ".py",
   "mimetype": "text/x-python",
   "name": "python",
   "nbconvert_exporter": "python",
   "pygments_lexer": "ipython3",
   "version": "3.6.4"
  }
 },
 "nbformat": 4,
 "nbformat_minor": 2
}
